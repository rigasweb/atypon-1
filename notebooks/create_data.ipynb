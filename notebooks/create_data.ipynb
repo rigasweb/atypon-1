{
 "cells": [
  {
   "cell_type": "code",
   "execution_count": null,
   "metadata": {},
   "outputs": [],
   "source": [
    "from sentence_transformers import SentenceTransformer\n",
    "import pandas as pd\n",
    "import ast\n",
    "from collections import Counter\n",
    "from tqdm import tqdm\n",
    "import os\n",
    "\n",
    "# load the dataset\n",
    "data = pd.read_csv(f'..data/articles.csv')\n",
    "data[\"meshroot\"] = data[\"meshroot\"].apply(ast.literal_eval)  # apply literal_eval because lists appear as strings\n",
    "\n",
    "all_labels = [label for sublist in data['meshroot'] for label in sublist]\n",
    "label_counts = Counter(all_labels)\n",
    "labels = [label[0] for label in label_counts.items()]\n",
    "\n",
    "embedder = SentenceTransformer(\"neuml/pubmedbert-base-embeddings\")\n",
    "X_all = []\n",
    "y_all = []\n",
    "\n",
    "for label in tqdm(labels):\n",
    "  positive_samples = data[data[\"meshroot\"].apply(lambda c: label in c)] # get all the rows that contain the label\n",
    "  positive_samples = positive_samples[:min(10000,len(positive_samples))] #min(10000,len(positive_samples))\n",
    "  negative_samples = data[data[\"meshroot\"].apply(lambda c: label not in c)]\n",
    "  negative_samples = negative_samples.sample(n=len(positive_samples), replace=True) # sample the same number of rows that do not contain it\n",
    "\n",
    "  X = []\n",
    "  for text in positive_samples[\"abstractText\"]:\n",
    "      X.append(embedder.encode(text))\n",
    "  for text in negative_samples[\"abstractText\"]:\n",
    "      X.append(embedder.encode(text))\n",
    "\n",
    "  y = [label] * len(positive_samples) + ['0'] * len(negative_samples) # we use \"0\" as a negative label\n",
    "\n",
    "  X_all.append(X)\n",
    "  y_all.append(y)\n"
   ]
  },
  {
   "cell_type": "code",
   "execution_count": null,
   "metadata": {},
   "outputs": [],
   "source": [
    "import pickle\n",
    "\n",
    "# Save the lists to a file\n",
    "with open(f'{path}X_title.pkl', 'wb') as f:\n",
    "    pickle.dump(X_all, f)\n",
    "with open(f'{path}y_title.pkl', 'wb') as f:\n",
    "    pickle.dump(y_all, f)"
   ]
  }
 ],
 "metadata": {
  "kernelspec": {
   "display_name": "venv",
   "language": "python",
   "name": "python3"
  },
  "language_info": {
   "codemirror_mode": {
    "name": "ipython",
    "version": 3
   },
   "file_extension": ".py",
   "mimetype": "text/x-python",
   "name": "python",
   "nbconvert_exporter": "python",
   "pygments_lexer": "ipython3",
   "version": "3.11.9"
  }
 },
 "nbformat": 4,
 "nbformat_minor": 2
}
